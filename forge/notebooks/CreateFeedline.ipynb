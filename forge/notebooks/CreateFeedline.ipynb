{
 "cells": [
  {
   "cell_type": "code",
   "execution_count": 1,
   "id": "f36dc00f",
   "metadata": {},
   "outputs": [],
   "source": [
    "%load_ext autoreload\n",
    "%autoreload 2\n",
    "from qiskit_metal import draw, Dict, designs, MetalGUI\n",
    "from qiskit_metal.toolbox_metal import math_and_overrides\n",
    "from qiskit_metal.qlibrary.core import QComponent\n",
    "\n",
    "import math\n",
    "import numpy as np\n",
    "import matplotlib.pyplot as plt"
   ]
  },
  {
   "cell_type": "code",
   "execution_count": 5,
   "id": "e4e47a14",
   "metadata": {},
   "outputs": [],
   "source": [
    "class Feedline(QComponent):\n",
    "    \"\"\"\n",
    "    Simple feedline with lumped port terminal at either end\n",
    "    \"\"\"\n",
    "    component_metadata = Dict(\n",
    "        short_name='Feedline',\n",
    "        _qgeometry_table_path='True'\n",
    "    )\n",
    "    default_options = Dict(\n",
    "            origin_x = \"0um\",\n",
    "            origin_y = \"0um\",\n",
    "            length = \"0.2mm\",\n",
    "            trace_gap = \"0.02mm\",\n",
    "            trace_width = \"0.01mm\",\n",
    "            chip=\"main\",\n",
    "            layer=\"1\"\n",
    "    )\n",
    "    \n",
    "    TOOLTIP = \"Implements feedline\"\n",
    "    \n",
    "    def make(self):\n",
    "        p = self.p\n",
    "        half_outer_len = p.length/2\n",
    "        half_inner_len = half_outer_len - p.trace_width\n",
    "        outer_rectangle = draw.LineString(\n",
    "            [\n",
    "                [0,-half_outer_len],\n",
    "                [0,half_outer_len]\n",
    "            ]\n",
    "        )\n",
    "        inner_rectangle = draw.LineString(\n",
    "            [\n",
    "                [0,-half_inner_len],\n",
    "                [0,half_inner_len]\n",
    "            ]\n",
    "        )\n",
    "        pin1 = draw.LineString(\n",
    "            [\n",
    "                [0,-half_inner_len],\n",
    "                [0,-half_inner_len - p.trace_width]\n",
    "            ]\n",
    "        )\n",
    "        pin2 = draw.LineString(\n",
    "            [\n",
    "                [0,half_inner_len],\n",
    "                [0,half_inner_len + p.trace_width]\n",
    "            ]\n",
    "        )\n",
    "        c_items = [outer_rectangle, inner_rectangle, pin1, pin2]\n",
    "        c_items = draw.translate(c_items, p.origin_x, p.origin_y)\n",
    "        [outer_rectangle, inner_rectangle, pin1, pin2] = c_items\n",
    "        \n",
    "\n",
    "        self.add_qgeometry('path', {'outer_rectangle': outer_rectangle},\n",
    "                           width=p.trace_width + 2 * p.trace_gap,\n",
    "                           subtract=True,\n",
    "                           layer=p.layer)\n",
    "        self.add_qgeometry('path', {'inner_rectangle': inner_rectangle},\n",
    "                           width=p.trace_width,\n",
    "                           layer=p.layer)\n",
    "        self.add_qgeometry('path', {'pin1': pin1},\n",
    "                           width=p.trace_width,\n",
    "                           layer=p.layer)\n",
    "        self.add_qgeometry('path', {'pin2': pin2},\n",
    "                           width=p.trace_width,\n",
    "                           layer=p.layer)"
   ]
  },
  {
   "cell_type": "code",
   "execution_count": 1,
   "id": "dfddc97f",
   "metadata": {},
   "outputs": [
    {
     "ename": "NameError",
     "evalue": "name 'designs' is not defined",
     "output_type": "error",
     "traceback": [
      "\u001b[0;31m------------------------------------------------------------------\u001b[0m",
      "\u001b[0;31mNameError\u001b[0m                        Traceback (most recent call last)",
      "\u001b[0;32m<ipython-input-1-6a4c322d8073>\u001b[0m in \u001b[0;36m<module>\u001b[0;34m\u001b[0m\n\u001b[0;32m----> 1\u001b[0;31m \u001b[0mdesign\u001b[0m \u001b[0;34m=\u001b[0m \u001b[0mdesigns\u001b[0m\u001b[0;34m.\u001b[0m\u001b[0mDesignPlanar\u001b[0m\u001b[0;34m(\u001b[0m\u001b[0;34m{\u001b[0m\u001b[0;34m}\u001b[0m\u001b[0;34m,\u001b[0m \u001b[0;32mTrue\u001b[0m\u001b[0;34m)\u001b[0m\u001b[0;34m\u001b[0m\u001b[0;34m\u001b[0m\u001b[0m\n\u001b[0m\u001b[1;32m      2\u001b[0m \u001b[0mdesign\u001b[0m\u001b[0;34m.\u001b[0m\u001b[0mchips\u001b[0m\u001b[0;34m.\u001b[0m\u001b[0mmain\u001b[0m\u001b[0;34m.\u001b[0m\u001b[0msize\u001b[0m\u001b[0;34m[\u001b[0m\u001b[0;34m'size_x'\u001b[0m\u001b[0;34m]\u001b[0m \u001b[0;34m=\u001b[0m \u001b[0;34m'2mm'\u001b[0m\u001b[0;34m\u001b[0m\u001b[0;34m\u001b[0m\u001b[0m\n\u001b[1;32m      3\u001b[0m \u001b[0mdesign\u001b[0m\u001b[0;34m.\u001b[0m\u001b[0mchips\u001b[0m\u001b[0;34m.\u001b[0m\u001b[0mmain\u001b[0m\u001b[0;34m.\u001b[0m\u001b[0msize\u001b[0m\u001b[0;34m[\u001b[0m\u001b[0;34m'size_y'\u001b[0m\u001b[0;34m]\u001b[0m \u001b[0;34m=\u001b[0m \u001b[0;34m'2mm'\u001b[0m\u001b[0;34m\u001b[0m\u001b[0;34m\u001b[0m\u001b[0m\n\u001b[1;32m      4\u001b[0m \u001b[0mdesign\u001b[0m\u001b[0;34m.\u001b[0m\u001b[0mdelete_all_components\u001b[0m\u001b[0;34m(\u001b[0m\u001b[0;34m)\u001b[0m\u001b[0;34m\u001b[0m\u001b[0;34m\u001b[0m\u001b[0m\n\u001b[1;32m      5\u001b[0m \u001b[0mdesign\u001b[0m\u001b[0;34m.\u001b[0m\u001b[0moverwrite_enabled\u001b[0m \u001b[0;34m=\u001b[0m \u001b[0;32mTrue\u001b[0m\u001b[0;34m\u001b[0m\u001b[0;34m\u001b[0m\u001b[0m\n",
      "\u001b[0;31mNameError\u001b[0m: name 'designs' is not defined"
     ]
    }
   ],
   "source": [
    "design = designs.DesignPlanar({}, True)\n",
    "design.chips.main.size['size_x'] = '2mm'\n",
    "design.chips.main.size['size_y'] = '2mm'\n",
    "design.delete_all_components()\n",
    "design.overwrite_enabled = True\n",
    "gui = MetalGUI(design)"
   ]
  },
  {
   "cell_type": "code",
   "execution_count": 7,
   "id": "2eea2d96",
   "metadata": {},
   "outputs": [],
   "source": [
    "f = Feedline(design, options = Dict(\n",
    "            origin_x = \"0um\",\n",
    "            origin_y = \"0um\",\n",
    "            length = \"2mm\",\n",
    "            trace_gap = \"0.02mm\",\n",
    "            trace_width = \"0.01mm\",\n",
    "            chip=\"main\",\n",
    "            layer=\"1\"\n",
    "    ))\n",
    "\n",
    "\n",
    "gui.rebuild()"
   ]
  },
  {
   "cell_type": "code",
   "execution_count": null,
   "id": "45aae9f7",
   "metadata": {},
   "outputs": [],
   "source": []
  }
 ],
 "metadata": {
  "kernelspec": {
   "display_name": "Python 3",
   "language": "python",
   "name": "python3"
  },
  "language_info": {
   "codemirror_mode": {
    "name": "ipython",
    "version": 3
   },
   "file_extension": ".py",
   "mimetype": "text/x-python",
   "name": "python",
   "nbconvert_exporter": "python",
   "pygments_lexer": "ipython3",
   "version": "3.8.1"
  }
 },
 "nbformat": 4,
 "nbformat_minor": 5
}
