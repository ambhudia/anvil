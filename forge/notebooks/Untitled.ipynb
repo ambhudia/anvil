{
 "cells": [
  {
   "cell_type": "markdown",
   "id": "3b48ed4f",
   "metadata": {},
   "source": [
    "# Optimising Resonator Section Areas"
   ]
  },
  {
   "cell_type": "markdown",
   "id": "97dd4d88",
   "metadata": {},
   "source": [
    "Assuming a High-Low-High scheme is being used, we desire to optimise the area occupied by an N-resonator, where I define N as the number of LOW impedance resonators used in the array.\n",
    "\n",
    "\n",
    "We define the allowable length in the y direction (height), $L$, as a constraint. Then the area is given by $A=LW$ where $W$ is the width of the device:\n",
    "\n",
    "$$W = 2N*(w+2s + n_1()) $$"
   ]
  },
  {
   "cell_type": "markdown",
   "id": "c4dbeefd",
   "metadata": {},
   "source": []
  },
  {
   "cell_type": "code",
   "execution_count": null,
   "id": "e637ec47",
   "metadata": {},
   "outputs": [],
   "source": [
    "resonator1 = {\n",
    "    's': 1000e-9,\n",
    "    'w': 100e-9,\n",
    "    'l': 303.121e-6\n",
    "}\n",
    "resonator2 = {\n",
    "    's': 3000e-9,\n",
    "    'w': 1176.795e-9,\n",
    "    'l': 871.407e-6\n",
    "}\n",
    "\n",
    "========================================\n",
    "===============Parameters===============\n",
    "========================================\n",
    "{'epsilon_1': '11.68',\n",
    " 'f0': '2.750 GHz',\n",
    " 'h': '10.000 nm',\n",
    " 's1': '1000.000 nm',\n",
    " 's2': '1000.000 nm',\n",
    " 'w1': '100.000 nm'}\n",
    "========================================\n",
    "=================Results================\n",
    "========================================\n",
    "{'C1': '0.075 nV/m',\n",
    " 'C2': '0.123 nV/m',\n",
    " 'Epsilon Eff 1': '2020.9886255687372',\n",
    " 'Epsilon Eff 2': '479.25621136841363',\n",
    " 'L1': '300.944 uH',\n",
    " 'L2': '43.432 uH',\n",
    " 'Length 1': '303.121 um',\n",
    " 'Length 2': '622.464 um',\n",
    " 'Z1/Z2': '=2 when w2 = 700.000 nm',\n",
    " 'Z_01': '2006.895 Ohms',\n",
    " 'Z_02': '594.763 Ohms'}"
   ]
  },
  {
   "cell_type": "markdown",
   "id": "be5fa64c",
   "metadata": {},
   "source": []
  }
 ],
 "metadata": {
  "kernelspec": {
   "display_name": "Python 3",
   "language": "python",
   "name": "python3"
  },
  "language_info": {
   "codemirror_mode": {
    "name": "ipython",
    "version": 3
   },
   "file_extension": ".py",
   "mimetype": "text/x-python",
   "name": "python",
   "nbconvert_exporter": "python",
   "pygments_lexer": "ipython3",
   "version": "3.8.1"
  }
 },
 "nbformat": 4,
 "nbformat_minor": 5
}
